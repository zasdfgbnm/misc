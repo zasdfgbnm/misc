{
 "cells": [
  {
   "cell_type": "code",
   "execution_count": 1,
   "metadata": {},
   "outputs": [],
   "source": [
    "import torch\n",
    "\n",
    "for _ in range(100):\n",
    "    torch.arange(100000, device='cuda:1')"
   ]
  },
  {
   "cell_type": "code",
   "execution_count": 2,
   "metadata": {},
   "outputs": [
    {
     "name": "stdout",
     "output_type": "stream",
     "text": [
      "(256,256)x(256, 256)\n",
      "58.3 µs ± 25.5 µs per loop (mean ± std. dev. of 7 runs, 1 loop each)\n",
      "(256,1024)x(1024, 256)\n",
      "61.5 µs ± 5.29 ns per loop (mean ± std. dev. of 7 runs, 10000 loops each)\n",
      "(256,4096)x(4096, 256)\n",
      "234 µs ± 53.9 ns per loop (mean ± std. dev. of 7 runs, 10000 loops each)\n",
      "(1024,256)x(256, 1024)\n",
      "74.3 µs ± 665 ns per loop (mean ± std. dev. of 7 runs, 1000 loops each)\n",
      "(1024,1024)x(1024, 1024)\n",
      "283 µs ± 136 ns per loop (mean ± std. dev. of 7 runs, 10000 loops each)\n",
      "(1024,4096)x(4096, 1024)\n",
      "1.12 ms ± 490 ns per loop (mean ± std. dev. of 7 runs, 1000 loops each)\n",
      "(4096,256)x(256, 4096)\n",
      "1.12 ms ± 840 ns per loop (mean ± std. dev. of 7 runs, 1000 loops each)\n",
      "(4096,1024)x(1024, 4096)\n",
      "4.42 ms ± 1.33 µs per loop (mean ± std. dev. of 7 runs, 1000 loops each)\n",
      "(4096,4096)x(4096, 4096)\n",
      "4.42 ms ± 4.73 µs per loop (mean ± std. dev. of 7 runs, 100 loops each)\n"
     ]
    }
   ],
   "source": [
    "for i in range(8, 22, 2):\n",
    "    for j in range(8, 22, 2):\n",
    "        if 2 * i >= 28 or 2 * j >= 28 or i + j >= 28:\n",
    "            continue\n",
    "        a = 2 ** i\n",
    "        b = 2 ** j\n",
    "        x = torch.randn((a, b), device='cuda:1', dtype=torch.bfloat16)\n",
    "        y = torch.randn((b, a), device='cuda:1', dtype=torch.bfloat16)\n",
    "        print(f'({a},{b})x({b}, {a})')\n",
    "        torch.cuda.synchronize()\n",
    "        %timeit torch.mm(x, y); torch.cuda.synchronize()\n",
    "        del x, y"
   ]
  },
  {
   "cell_type": "code",
   "execution_count": 15,
   "metadata": {
    "scrolled": false
   },
   "outputs": [
    {
     "name": "stdout",
     "output_type": "stream",
     "text": [
      "(256,256)x(256, 256)\n",
      "174 µs ± 3.77 µs per loop (mean ± std. dev. of 7 runs, 10000 loops each)\n",
      "(256,1024)x(1024, 256)\n",
      "171 µs ± 1.22 µs per loop (mean ± std. dev. of 7 runs, 10000 loops each)\n",
      "(256,4096)x(4096, 256)\n",
      "179 µs ± 968 ns per loop (mean ± std. dev. of 7 runs, 10000 loops each)\n",
      "(1024,256)x(256, 1024)\n",
      "174 µs ± 3.43 µs per loop (mean ± std. dev. of 7 runs, 10000 loops each)\n",
      "(1024,1024)x(1024, 1024)\n",
      "251 µs ± 620 ns per loop (mean ± std. dev. of 7 runs, 1000 loops each)\n",
      "(1024,4096)x(4096, 1024)\n",
      "817 µs ± 551 ns per loop (mean ± std. dev. of 7 runs, 1000 loops each)\n",
      "(4096,256)x(256, 4096)\n",
      "1.38 ms ± 201 ns per loop (mean ± std. dev. of 7 runs, 1000 loops each)\n",
      "(4096,1024)x(1024, 4096)\n",
      "3.32 ms ± 1.42 µs per loop (mean ± std. dev. of 7 runs, 1000 loops each)\n",
      "(4096,4096)x(4096, 4096)\n",
      "10.4 ms ± 1.64 ms per loop (mean ± std. dev. of 7 runs, 100 loops each)\n"
     ]
    }
   ],
   "source": [
    "for i in range(8, 22, 2):\n",
    "    for j in range(8, 22, 2):\n",
    "        if 2 * i >= 28 or 2 * j >= 28 or i + j >= 28:\n",
    "            continue\n",
    "        a = 2 ** i\n",
    "        b = 2 ** j\n",
    "        x = torch.randn((a, b), device='cuda:1', dtype=torch.bfloat16)\n",
    "        y = torch.randn((b, a), device='cuda:1', dtype=torch.bfloat16)\n",
    "        print(f'({a},{b})x({b}, {a})')\n",
    "        torch.cuda.synchronize()\n",
    "        %timeit torch.mm(x, y); torch.cuda.synchronize()\n",
    "        del x, y"
   ]
  },
  {
   "cell_type": "code",
   "execution_count": null,
   "metadata": {},
   "outputs": [],
   "source": []
  }
 ],
 "metadata": {
  "kernelspec": {
   "display_name": "Python 3",
   "language": "python",
   "name": "python3"
  },
  "language_info": {
   "codemirror_mode": {
    "name": "ipython",
    "version": 3
   },
   "file_extension": ".py",
   "mimetype": "text/x-python",
   "name": "python",
   "nbconvert_exporter": "python",
   "pygments_lexer": "ipython3",
   "version": "3.9.2"
  }
 },
 "nbformat": 4,
 "nbformat_minor": 4
}
